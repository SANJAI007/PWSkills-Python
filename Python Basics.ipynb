{
 "cells": [
  {
   "cell_type": "code",
   "execution_count": 31,
   "id": "8a60778c-2127-4351-9dbf-197a64c85c87",
   "metadata": {},
   "outputs": [
    {
     "name": "stdin",
     "output_type": "stream",
     "text": [
      "Enter the first number:  10\n",
      "Enter the second number:  30\n"
     ]
    },
    {
     "name": "stdout",
     "output_type": "stream",
     "text": [
      "The number before swapped are num1: 10 and num2: 30\n",
      "The number after swapped are num1: 30 and num2: 10\n"
     ]
    }
   ],
   "source": [
    "#Python Basic Variable\n",
    "# 1.Program to swap two number without temporary variable\n",
    "num1 = int(input(\"Enter the first number: \"))\n",
    "num2 = int(input(\"Enter the second number: \"))\n",
    "print(\"The number before swapped are num1:\",num1,\"and num2:\",num2)\n",
    "num1 = num1 + num2\n",
    "num2 = num1 - num2\n",
    "num1 = num1 - num2\n",
    "print(\"The number after swapped are num1:\",num1,\"and num2:\",num2)"
   ]
  },
  {
   "cell_type": "code",
   "execution_count": 35,
   "id": "66214bd3-0319-4c5e-b196-9bd5e46e15b6",
   "metadata": {},
   "outputs": [
    {
     "name": "stdin",
     "output_type": "stream",
     "text": [
      "Enter the length of the rectangle:  10\n",
      "Enter the width of the rectangle:  20\n"
     ]
    },
    {
     "name": "stdout",
     "output_type": "stream",
     "text": [
      "The area of the rectangle with length: 10.0 and width: 20.0 is 200.0\n"
     ]
    }
   ],
   "source": [
    "# 2.Program to calculate the area of rectangle\n",
    "length = float(input(\"Enter the length of the rectangle: \"))\n",
    "width = float(input(\"Enter the width of the rectangle: \"))\n",
    "area = length * width\n",
    "print(\"The area of the rectangle with length:\",length,\"and width:\",width,\"is\",area)"
   ]
  },
  {
   "cell_type": "code",
   "execution_count": 4,
   "id": "b85e7d10-7ec8-404a-9038-da74abac4696",
   "metadata": {
    "tags": []
   },
   "outputs": [
    {
     "name": "stdin",
     "output_type": "stream",
     "text": [
      "Enter the temperature in celsius:  36\n"
     ]
    },
    {
     "name": "stdout",
     "output_type": "stream",
     "text": [
      "The value of  36.0 °C is 96.8 °F\n"
     ]
    }
   ],
   "source": [
    "# 3.Program to convert celsius to fahrenheit\n",
    "celsius = float(input(\"Enter the temperature in celsius: \"))\n",
    "fahrenheit = celsius * (9/5) + 32\n",
    "print(\"The value of \",celsius,\"°C is\",fahrenheit,\"°F\")"
   ]
  },
  {
   "cell_type": "code",
   "execution_count": 9,
   "id": "1a43118b-9b6c-4832-aee0-5cda5bdf1c7d",
   "metadata": {},
   "outputs": [
    {
     "name": "stdin",
     "output_type": "stream",
     "text": [
      "Enter the string:  python\n"
     ]
    },
    {
     "name": "stdout",
     "output_type": "stream",
     "text": [
      "The length of the string python is 6\n"
     ]
    }
   ],
   "source": [
    "#Python Strings\n",
    "# 1.Program to print the length of the string\n",
    "string = input(\"Enter the string: \")\n",
    "print(\"The length of the string\",string,\"is\",len(string))"
   ]
  },
  {
   "cell_type": "code",
   "execution_count": 12,
   "id": "a7bd017f-e4f8-49b6-b491-4f8d75f1d83f",
   "metadata": {},
   "outputs": [
    {
     "name": "stdin",
     "output_type": "stream",
     "text": [
      "Enter the string:  apple\n"
     ]
    },
    {
     "name": "stdout",
     "output_type": "stream",
     "text": [
      "The number of vowels in apple is 2\n"
     ]
    }
   ],
   "source": [
    "# 2.Program to count the no of vowels in a string\n",
    "sentence = input(\"Enter the string: \")\n",
    "vowel = 0\n",
    "for i in sentence:\n",
    "    if i in \"aeiou\":\n",
    "        vowel+=1\n",
    "print(\"The number of vowels in\",sentence,\"is\",vowel)"
   ]
  },
  {
   "cell_type": "code",
   "execution_count": 14,
   "id": "3a05daae-5f1f-4432-8c90-e1e00ae3576a",
   "metadata": {},
   "outputs": [
    {
     "name": "stdin",
     "output_type": "stream",
     "text": [
      "Enter the string:  Data Science\n"
     ]
    },
    {
     "name": "stdout",
     "output_type": "stream",
     "text": [
      "The string Data Science after reversing is ecneicS ataD\n"
     ]
    }
   ],
   "source": [
    "# 3 Program to reverse a string using slicing\n",
    "a = input(\"Enter the string: \")\n",
    "print(\"The string\",a,\"after reversing is\",a[::-1])"
   ]
  },
  {
   "cell_type": "code",
   "execution_count": 18,
   "id": "f4a95c74-f98a-4747-9972-297b13a93276",
   "metadata": {},
   "outputs": [
    {
     "name": "stdin",
     "output_type": "stream",
     "text": [
      "Enter the string:  Data Science\n"
     ]
    },
    {
     "name": "stdout",
     "output_type": "stream",
     "text": [
      "The string Data Science is not a palindrome!!\n"
     ]
    }
   ],
   "source": [
    "# 4.Program to check a string is palindrome or not\n",
    "pal_string = input(\"Enter the string: \")\n",
    "if (pal_string == pal_string[::-1]):\n",
    "    print(\"The string\",pal_string,\"is palindrome!!\")\n",
    "else:\n",
    "    print(\"The string\",pal_string,\"is not a palindrome!!\")"
   ]
  },
  {
   "cell_type": "code",
   "execution_count": 24,
   "id": "98a7b46f-afdb-4ed8-a9f2-f2727bc8eebe",
   "metadata": {},
   "outputs": [
    {
     "name": "stdin",
     "output_type": "stream",
     "text": [
      "Enter the string with space:            Data Science           \n"
     ]
    },
    {
     "name": "stdout",
     "output_type": "stream",
     "text": [
      "The string without spaces is Data Science\n"
     ]
    }
   ],
   "source": [
    "# 5.Program to remove the spaces in a string\n",
    "space_string = input(\"Enter the string with space: \")\n",
    "print(\"The string without spaces is\",space_string.strip())"
   ]
  }
 ],
 "metadata": {
  "kernelspec": {
   "display_name": "Python 3 (ipykernel)",
   "language": "python",
   "name": "python3"
  },
  "language_info": {
   "codemirror_mode": {
    "name": "ipython",
    "version": 3
   },
   "file_extension": ".py",
   "mimetype": "text/x-python",
   "name": "python",
   "nbconvert_exporter": "python",
   "pygments_lexer": "ipython3",
   "version": "3.10.8"
  }
 },
 "nbformat": 4,
 "nbformat_minor": 5
}
